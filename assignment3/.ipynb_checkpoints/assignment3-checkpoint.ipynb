{
 "cells": [
  {
   "cell_type": "markdown",
   "metadata": {},
   "source": [
    "# Question 5.1\n",
    "For the equation\n",
    "$f (x) = x 2 − x − 2 = 0$,\n",
    "each of the following functions yields an equivalent fixed-point problem:\n",
    "$$g_1 (x) =x^2 − 2,$$\n",
    "$$g_2 (x) = \\sqrt{x+2},$$\n",
    "$$g_3 (x) = 1 + \\frac{2}{x},$$\n",
    "$$g_4 (x) = \\frac{x^2 + 2}{2x - 1}.$$\n",
    "\n",
    "(a) Analyze the convergence properties of\n",
    "each of the corresponding fixed-point iteration\n",
    "schemes for the root x = 2 by considering\n",
    "$|g_{i}^{'}(2)|$.\n",
    "\n",
    "$$| g_{1}^{'}(2) | = 2x \\biggr|^{x=2} = 4$$\n",
    "We expect the scheme for $g_1(x)$ to diverge since the absolute value of the derivative is\n",
    "greater than 1.\n",
    "\n",
    "$$| g_{2}^{'}(2) | = \\frac{1}{2\\sqrt{x+2}}\\biggr|^{x=2} = \\frac{1}{4}$$\n",
    "We expect the scheme for $g_2(x)$ to be locally convergent since the absolute value of the derivative is\n",
    "less than 1. This means there exists an interval around x where the iterative scheme will converge\n",
    "if started in this interval.\n",
    "\n",
    "$$| g_{3}^{'}(2) | = \\frac{-2}{x^{2}}\\biggr|^{x=2} = 2$$\n",
    "We expect the scheme for $g_3(x)$ to diverge since the absolute value of the derivative is\n",
    "greater than 1.\n",
    "$$| g_{4}^{'}(2) | = \\frac{2x -2}{(2x - 1)^2}\\biggr|^{x=2} = \\frac{2}{9}$$\n",
    "We expect the scheme for $g_4(x)$ to be locally convergent since the absolute value of the derivative is\n",
    "less than 1. This means there exists an interval around x where the iterative scheme will converge\n",
    "if started in this interval.\n",
    "\n",
    "\n",
    "(b) Confirm your analysis by implementing\n",
    "each of the schemes and verifying its convergence (or lack thereof) and approximate convergence rate."
   ]
  },
  {
   "cell_type": "code",
   "execution_count": 1,
   "metadata": {},
   "outputs": [
    {
     "data": {
      "text/plain": [
       "'Fixed point iteration.'"
      ]
     },
     "execution_count": 1,
     "metadata": {},
     "output_type": "execute_result"
    }
   ],
   "source": [
    "\"\"\"Fixed point iteration convergence.\n",
    "\n",
    "The purposes is to evaluate the convergence / divergence of different\n",
    "solution functions.\n",
    "\"\"\"\n",
    "\n",
    "%matplotlib inline\n",
    "import numpy as np\n",
    "\n",
    "\n",
    "def evaluate_g(g):\n",
    "    \"\"\"The expectation is that g is a function which consumes the starting value.\"\"\"\n",
    "    # We need to check for divergence.\n",
    "    # We need to keep track of the convergence rate.\n",
    "    # We need to iterate.\n",
    "    pass"
   ]
  }
 ],
 "metadata": {
  "kernelspec": {
   "display_name": "Python 3",
   "language": "python",
   "name": "python3"
  },
  "language_info": {
   "codemirror_mode": {
    "name": "ipython",
    "version": 3
   },
   "file_extension": ".py",
   "mimetype": "text/x-python",
   "name": "python",
   "nbconvert_exporter": "python",
   "pygments_lexer": "ipython3",
   "version": "3.5.2"
  }
 },
 "nbformat": 4,
 "nbformat_minor": 2
}
