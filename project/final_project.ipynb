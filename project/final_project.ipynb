{
 "cells": [
  {
   "cell_type": "markdown",
   "metadata": {},
   "source": [
    "# TODO Questions\n",
    "* 7.2, 7.3, 7.4, 7.5\n",
    "* 8.1(a,b), 8.5, 8.7, 8.11, 8.16(a,b,d)\n",
    "* 9.1, 9.2, 9.3, 9.7, 9.8"
   ]
  },
  {
   "cell_type": "markdown",
   "metadata": {},
   "source": [
    "# Question 7.1\n",
    "Both parts (a) and (b) are complete."
   ]
  },
  {
   "cell_type": "code",
   "execution_count": 21,
   "metadata": {},
   "outputs": [
    {
     "name": "stdout",
     "output_type": "stream",
     "text": [
      "8.0\n",
      "6.0\n",
      "8.0\n"
     ]
    }
   ],
   "source": [
    "\"\"\"Horner's Rule Polynomial Calculation.\"\"\"\n",
    "\n",
    "import numpy as np\n",
    "\n",
    "\n",
    "def horner(degree, coeffs, t):\n",
    "    \"\"\"Apply the horner algorithm to a polynomial at t.\n",
    "    \n",
    "    Args:\n",
    "        degree: Degree of the polynomial.\n",
    "        coeffs: The coefficients of the polynomial.\n",
    "        t: The value of the independent variable we evaluate the function at.\n",
    "    \"\"\"\n",
    "    b = float(coeffs[degree])\n",
    "\n",
    "    for i in reversed(range(degree)):\n",
    "        b = coeffs[i] + b * t\n",
    "\n",
    "    return b\n",
    "\n",
    "\n",
    "def evaluate(degree, coeffs, t=None, a=None, b=None, evaluate='function'):\n",
    "    \"\"\"\n",
    "    Wrapper of the horner algorithm to allow the computation of the\n",
    "    function as is, or its derivative at t, or its definite integral with\n",
    "    bounds (b, a).\n",
    "    \"\"\"\n",
    "    coeffs = np.array(coeffs)\n",
    "    \n",
    "    if evaluate == 'function' and t is not None:\n",
    "        return horner(degree, coeffs, t)\n",
    "    \n",
    "    elif evaluate == 'derivative' and t is not None:\n",
    "        # Do the derivative on the coefficients.\n",
    "        for i in range(degree):\n",
    "            coeffs[i] = float(coeffs[i + 1]) * (i + 1)\n",
    "        \n",
    "        return horner(degree - 1, coeffs[:degree], t)\n",
    "    \n",
    "    elif evaluate == 'integral' and a is not None and b is not None:\n",
    "        # Integrate the coefficients.\n",
    "        new_coeffs = np.zeros(degree + 2)\n",
    "        \n",
    "        for i in reversed(range(1, degree + 2)):\n",
    "            new_coeffs[i] = float(coeffs[i - 1]) / i\n",
    "        \n",
    "        at_a = horner(degree + 1, new_coeffs, a)\n",
    "        at_b = horner(degree + 1, new_coeffs, b)\n",
    "        return at_a - at_b\n",
    "    \n",
    "    else:\n",
    "        return \"You messed up.\"\n",
    "\n",
    "\n",
    "# Test case.\n",
    "print(evaluate(2, np.array([0, 2, 1]), t=2))\n",
    "print(evaluate(2, np.array([0, 2, 1]), t=2, evaluate='derivative'))\n",
    "print(evaluate(1, np.array([2, 2]), a=2, b=0, evaluate='integral'))"
   ]
  },
  {
   "cell_type": "markdown",
   "metadata": {},
   "source": [
    "# Question 7.2"
   ]
  },
  {
   "cell_type": "code",
   "execution_count": 47,
   "metadata": {},
   "outputs": [
    {
     "data": {
      "text/plain": [
       "array([0.])"
      ]
     },
     "execution_count": 47,
     "metadata": {},
     "output_type": "execute_result"
    }
   ],
   "source": [
    "\"\"\"Newton Polynomial Interpolation Problem.\"\"\"\n",
    "\n",
    "import numpy as np\n",
    "\n",
    "\n",
    "class NewtonInterpolant(object):\n",
    "    def __init__(self, data):\n",
    "        self.data = np.array(data)\n",
    "        self.n = self.data.shape[0]\n",
    "        self.A = np.zeros([self.n, self.n])\n",
    "        self.A[:,0] = np.ones([self.n])\n",
    "\n",
    "        for i in range(1, self.n):\n",
    "            for j in range(1, self.n):\n",
    "                self.A[i, j] = self.A[i, j-1] * (self.data[i, 0]\n",
    "                                                 - self.data[j-1, 0])\n",
    "\n",
    "        self.t = np.array(self.data[:, :1])\n",
    "        self.y = np.array(self.data[:, 1:])\n",
    "        self.x = np.linalg.solve(self.A, self.y)\n",
    "\n",
    "    def interpolant(self):\n",
    "        return np.array(self.x)\n",
    "\n",
    "    def add(self, datapoint):\n",
    "        pass\n",
    "\n",
    "    def evaluate_horner(self, t):\n",
    "        \"\"\"Technically not horner...\"\"\"\n",
    "        cumul_t = 1\n",
    "        result = 0\n",
    "        for i in range(self.n):\n",
    "            result += self.x[i] * cumul_t\n",
    "            cumul_t *= (t - self.t[i])\n",
    "\n",
    "        return result\n",
    "\n",
    "\n",
    "evaluator = NewtonInterpolant([[-2,-27],[0,-1], [1,0]])\n",
    "evaluator.evaluate_horner(1)\n",
    "# TODO: New interpolant when data point is added.\n",
    "# TODO: Recursively implement part a, i.e. given a dataset,\n",
    "#       incrementally add each one."
   ]
  },
  {
   "cell_type": "code",
   "execution_count": 24,
   "metadata": {},
   "outputs": [
    {
     "data": {
      "text/plain": [
       "(3, 2)"
      ]
     },
     "execution_count": 24,
     "metadata": {},
     "output_type": "execute_result"
    }
   ],
   "source": [
    "np.array([[-2,-27],[0,-1], [1,0]]).shape"
   ]
  }
 ],
 "metadata": {
  "kernelspec": {
   "display_name": "Python 3",
   "language": "python",
   "name": "python3"
  },
  "language_info": {
   "codemirror_mode": {
    "name": "ipython",
    "version": 3
   },
   "file_extension": ".py",
   "mimetype": "text/x-python",
   "name": "python",
   "nbconvert_exporter": "python",
   "pygments_lexer": "ipython3",
   "version": "3.5.2"
  }
 },
 "nbformat": 4,
 "nbformat_minor": 2
}
